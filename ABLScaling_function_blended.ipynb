{
 "cells": [
  {
   "cell_type": "markdown",
   "id": "92153dbb",
   "metadata": {},
   "source": [
    "# RANS ABL Mesh mapping\n",
    "## Geometric growth blended with constant cell size"
   ]
  },
  {
   "cell_type": "code",
   "execution_count": 1,
   "id": "4f283023",
   "metadata": {},
   "outputs": [],
   "source": [
    "import matplotlib.pyplot as plt\n",
    "import numpy as np\n",
    "import mpmath\n",
    "import math"
   ]
  },
  {
   "cell_type": "markdown",
   "id": "2c1fa051",
   "metadata": {},
   "source": [
    "## Blended mapping function \n",
    "\n",
    "We're going to build the mapping function as a blend between two functions $x_{geom}$ and $x_{const}$:  \n",
    "\n",
    "$$\n",
    "x(\\xi) = x_{geom}(\\xi) (1-h(\\xi)) + h(\\xi) x_{const}(\\xi)\n",
    "$$\n",
    "\n",
    "where the blend function $h(\\xi)$ is defined as  \n",
    "\n",
    "$$\n",
    "h(\\xi, \\xi_T, W) = \\frac{1}{2} \\left( 1 + \\tanh \\left( \\frac{\\xi-\\xi_T}{W} \\right) \\right)\n",
    "$$\n",
    "\n",
    "and depends on the transition location $\\xi_T$ and width W.  \n",
    "\n",
    "$$\n",
    "\\frac{d x}{d \\xi} = (1-h) x'_{geom} - h' x_{geom} + h x'_{const} + h' x_{const}\n",
    "$$"
   ]
  },
  {
   "cell_type": "markdown",
   "id": "d14cf806",
   "metadata": {},
   "source": [
    "### Geometry growth mapping function  \n",
    "\n",
    "The geometric growth function $x_{geom}$ is defined as :  \n",
    "\n",
    "$$\n",
    "x_{geom}(\\xi) = \\frac{\\Delta_0}{r}  \\frac{1-r^{\\xi+1}}{1-r} - \\frac{\\Delta_0}{r}\n",
    "$$\n",
    "\n",
    "With the first cell height $\\Delta_0$ and stretch rate $r$>1 provided by the user.  \n",
    "\n",
    "The inverse of this function is\n",
    "$$\n",
    "\\xi_{inv}(x) = \\frac{\\ln \\left( 1- (x-\\Delta_0/r) \\frac{r (1-r)}{\\Delta_0} \\right)}\n",
    "{\\ln (r)}\n",
    "$$\n",
    "\n",
    "The derivative of this function is:\n",
    "$$\n",
    "\\frac{d x_{geom}}{d\\xi} = \\frac{\\Delta_0}{r (r-1)} r^{\\xi-1} \\log(r)\n",
    "$$\n",
    "\n",
    "### Constant cell size mapping function  \n",
    "\n",
    "$$\n",
    "x_{const} = s(\\xi-\\xi_0) + L_{match}\n",
    "$$\n",
    "\n",
    "slope $s$, offset $\\xi_0$, and match height $L_{match}$.\n",
    "\n",
    "To set up the constants in $x_{const}$, there are two options:\n",
    "1.  We can compute the $\\xi$ that would correspond to $L$ input by the user:\n",
    "\n",
    "$$\n",
    "\\xi_L = \\textrm{int}\\{ x_{inv}(L, \\delta_0, r) \\}\n",
    "$$\n",
    "\n",
    "2.  We can compute the $\\xi$ that would correspond to $\\Delta_{max}$ input by the user:\n",
    "\n",
    "$$\n",
    "\\xi_L = \\textrm{floor} \\left[ \\frac{\\ln (\\Delta_{max} r^2/\\Delta_0)}{\\ln r} \\right] - 1\n",
    "$$\n",
    "\n",
    "We'll set the offset $\\xi_0$=$\\xi_L$. Because $\\xi_L$ has been rounded to the nearest integer, we'll compute $L_{match}$ at $\\xi_L$\n",
    "\n",
    "$$\n",
    "L_{match} = x_{geom}(\\xi_L, \\delta_0, r)\n",
    "$$\n",
    "\n",
    "And the slope will be the cell size at $\\xi_L$: \n",
    "\n",
    "$$\n",
    "s =  x_{geom}(\\xi_L, \\delta_0, r) -  x_{geom}(\\xi_L-1, \\delta_0, r)\n",
    "$$\n",
    "\n",
    "The derivative of $x_{const}$ is\n",
    "\n",
    "$$\n",
    "\\frac{d x_{const}}{d\\xi} = s\n",
    "$$"
   ]
  },
  {
   "cell_type": "code",
   "execution_count": 2,
   "id": "6d3154ff",
   "metadata": {},
   "outputs": [],
   "source": [
    "\n",
    "def plotgrid(ax, xivec, coordfunc, *args, **kwargs):\n",
    "    for xi in xivec:\n",
    "        x = coordfunc(xi, *args)\n",
    "        #print(x)\n",
    "        ax.axhline(x,**kwargs)\n",
    "    return\n",
    "\n",
    "def printgrid(xivec, coordfunc, *args):\n",
    "    print('%-4s %8s %8s %s'%('xi','real x','cellsize','stretching'))\n",
    "    for i, xi in enumerate(xivec):\n",
    "        x = coordfunc(xi, *args)\n",
    "        cellsize = 0.0 if i==0 else x - coordfunc(xivec[i-1], *args)\n",
    "        sratio   = 0.0 if i<2  else cellsize/(coordfunc(xivec[i-1], *args)-coordfunc(xivec[i-2], *args))\n",
    "        print('%-4i %8.4f %8.4f %8.4f'%(xi, x, cellsize, sratio))"
   ]
  },
  {
   "cell_type": "code",
   "execution_count": 3,
   "id": "c63bde8b",
   "metadata": {},
   "outputs": [],
   "source": [
    "hblend  = lambda xi, xiT, W: 0.5*(1+np.tanh((xi-xiT)/W))\n",
    "dhblend = lambda xi, xiT, W: 0.5/W*(mpmath.sech((xi-xiT)/W))**2\n",
    "\n",
    "xgeom   = lambda xi, delta0, r: delta0*(1-r**(xi+1))/(1-r)/r - delta0/r\n",
    "dxgeom  = lambda xi, delta0, r: delta0/r/(r-1)*np.log(r)*r**(xi-1)\n",
    "\n",
    "xconst  = lambda xi, slope, xi0, L: slope*(xi - xi0) + L \n",
    "dxconst = lambda xi, slope, xi0: slope*(xi)\n",
    "\n",
    "xiinverse = lambda x, delta0, r: np.log(1.0 - (x-delta0/r)*r*(1.0-r)/delta0)/np.log(r)\n",
    "\n",
    "xideltamax = lambda deltamax, delta0, r: np.log(deltamax/delta0*r*r)/np.log(r)\n",
    "\n",
    "def xcoord(xi, delta0, r, L):\n",
    "    # Get the match xi\n",
    "    xiL  = int(xiinverse(L, delta0, r))\n",
    "    Lmatch = xgeom(xiL, delta0, r)\n",
    "    # Get the slope\n",
    "    dxiL = xgeom(xiL, delta0, r) - xgeom(xiL-1, delta0, r)\n",
    "    \n",
    "    #print('match = ',xiL)\n",
    "    #print('slope = ',dxiL)\n",
    "    W  = 0.1\n",
    "    h  = hblend(xi, xiL, W)\n",
    "    xg = xgeom(xi, delta0, r)\n",
    "    xc = xconst(xi, dxiL, xiL, Lmatch)\n",
    "    #print(xc)\n",
    "    return xg*(1.0-h) + h*xc\n",
    "\n",
    "def xcoord_deltamax(xi, delta0, r, deltamax):\n",
    "    # Get the match xi\n",
    "    xiL  = math.floor(xideltamax(deltamax, delta0, r))-1\n",
    "    Lmatch = xgeom(xiL, delta0, r)\n",
    "    # Get the slope\n",
    "    dxiL = xgeom(xiL, delta0, r) - xgeom(xiL-1, delta0, r)\n",
    "    \n",
    "    #print('match = ',xiL)\n",
    "    #print('slope = ',dxiL)\n",
    "    W  = 0.1\n",
    "    h  = hblend(xi, xiL, W)\n",
    "    xg = xgeom(xi, delta0, r)\n",
    "    xc = xconst(xi, dxiL, xiL, Lmatch)\n",
    "    #print(xc)\n",
    "    return xg*(1.0-h) + h*xc"
   ]
  },
  {
   "cell_type": "code",
   "execution_count": 4,
   "id": "6d5ebb04",
   "metadata": {},
   "outputs": [
    {
     "name": "stdout",
     "output_type": "stream",
     "text": [
      "xi     real x cellsize stretching\n",
      "0      0.0000   0.0000   0.0000\n",
      "1      0.1000   0.1000   0.0000\n",
      "2      0.2100   0.1100   1.1000\n",
      "3      0.3310   0.1210   1.1000\n",
      "4      0.4641   0.1331   1.1000\n",
      "5      0.6105   0.1464   1.1000\n",
      "6      0.7716   0.1611   1.1000\n",
      "7      0.9487   0.1772   1.1000\n",
      "8      1.1436   0.1949   1.1000\n",
      "9      1.3579   0.2144   1.1000\n",
      "10     1.5937   0.2358   1.1000\n",
      "11     1.8295   0.2358   1.0000\n",
      "12     2.0653   0.2358   1.0000\n",
      "13     2.3011   0.2358   1.0000\n",
      "14     2.5369   0.2358   1.0000\n",
      "15     2.7727   0.2358   1.0000\n",
      "16     3.0085   0.2358   1.0000\n",
      "17     3.2443   0.2358   1.0000\n",
      "18     3.4801   0.2358   1.0000\n",
      "19     3.7159   0.2358   1.0000\n",
      "\n",
      "7.990750912000987\n"
     ]
    }
   ],
   "source": [
    "Nxi    = 20\n",
    "xi     = np.linspace(0,Nxi-1,Nxi)\n",
    "delta0 = 0.1\n",
    "r      = 1.1\n",
    "xmatch = 1.0\n",
    "\n",
    "deltamax = 0.25\n",
    "\n",
    "#print(coord(0, delta0, r))\n",
    "#print(coord(1, delta0, r))\n",
    "#print(xi[0],delta0*((r**0) - r))\n",
    "\n",
    "#printgrid(xi, xcoord, delta0, r, xmatch)\n",
    "printgrid(xi, xcoord_deltamax, delta0, r, deltamax)\n",
    "print()\n",
    "print(xideltamax(0.177, delta0, r))"
   ]
  },
  {
   "cell_type": "code",
   "execution_count": 5,
   "id": "beead0bc",
   "metadata": {},
   "outputs": [
    {
     "data": {
      "image/png": "[encoded data removed]",
      "text/plain": [
       "<Figure size 750x750 with 1 Axes>"
      ]
     },
     "metadata": {
      "needs_background": "light"
     },
     "output_type": "display_data"
    }
   ],
   "source": [
    "#Plot the grid\n",
    "fig, ax = plt.subplots(1,1, figsize=(5,5), dpi=150)\n",
    "plotgrid(ax, xi, xcoord, delta0, r, xmatch)\n",
    "plotgrid(ax, xi+0.5, xcoord, delta0, r, xmatch, color='r', ls=':', linewidth=0.50)"
   ]
  },
  {
   "cell_type": "code",
   "execution_count": null,
   "id": "e6615f1c",
   "metadata": {},
   "outputs": [],
   "source": []
  }
 ],
 "metadata": {
  "kernelspec": {
   "display_name": "Python 3",
   "language": "python",
   "name": "python3"
  },
  "language_info": {
   "codemirror_mode": {
    "name": "ipython",
    "version": 3
   },
   "file_extension": ".py",
   "mimetype": "text/x-python",
   "name": "python",
   "nbconvert_exporter": "python",
   "pygments_lexer": "ipython3",
   "version": "3.8.8"
  }
 },
 "nbformat": 4,
 "nbformat_minor": 5
}
